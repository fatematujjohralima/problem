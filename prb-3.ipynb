{
 "cells": [
  {
   "cell_type": "code",
   "execution_count": 1,
   "id": "40415f32-0409-4734-8b8e-8ebae7d6d3bf",
   "metadata": {},
   "outputs": [
    {
     "name": "stdin",
     "output_type": "stream",
     "text": [
      "enter total number of classes:  85\n",
      "enter total number of classes attended :  20\n"
     ]
    }
   ],
   "source": [
    "total_class = int(input('enter total number of classes: ' ))\n",
    "attended_class = int(input('enter total number of classes attended : ' ))"
   ]
  },
  {
   "cell_type": "code",
   "execution_count": 2,
   "id": "f07e3733-2df5-4f56-9c10-136b8798ba24",
   "metadata": {},
   "outputs": [],
   "source": [
    "percentage = (attended_class/total_class)*100"
   ]
  },
  {
   "cell_type": "code",
   "execution_count": 3,
   "id": "b230a43e-5389-43a5-a9d6-2ca12560c6d2",
   "metadata": {},
   "outputs": [
    {
     "name": "stdout",
     "output_type": "stream",
     "text": [
      "Not allowed to sit in the exam. Attendance is 23.53% \n"
     ]
    }
   ],
   "source": [
    "if percentage < 75:\n",
    "    print(\"Not allowed to sit in the exam. Attendance is\",)\n",
    "else:\n",
    "    print(\"Allowed to sit in the exam. Attendance is {:.2f}%\".format(percentage))"
   ]
  },
  {
   "cell_type": "code",
   "execution_count": null,
   "id": "cd3a3eaf-9739-49f2-a9c6-7f83b3db8763",
   "metadata": {},
   "outputs": [],
   "source": []
  }
 ],
 "metadata": {
  "kernelspec": {
   "display_name": "Python 3 (ipykernel)",
   "language": "python",
   "name": "python3"
  },
  "language_info": {
   "codemirror_mode": {
    "name": "ipython",
    "version": 3
   },
   "file_extension": ".py",
   "mimetype": "text/x-python",
   "name": "python",
   "nbconvert_exporter": "python",
   "pygments_lexer": "ipython3",
   "version": "3.13.3"
  }
 },
 "nbformat": 4,
 "nbformat_minor": 5
}
