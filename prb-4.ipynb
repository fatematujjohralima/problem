{
 "cells": [
  {
   "cell_type": "code",
   "execution_count": null,
   "id": "babe4845-f9cd-4e8a-b6de-254d59f134bd",
   "metadata": {},
   "outputs": [],
   "source": []
  }
 ],
 "metadata": {
  "kernelspec": {
   "display_name": "",
   "name": ""
  },
  "language_info": {
   "name": ""
  }
 },
 "nbformat": 4,
 "nbformat_minor": 5
}
