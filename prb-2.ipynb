{
 "cells": [
  {
   "cell_type": "code",
   "execution_count": 1,
   "id": "ce47c4f5-b4be-4af0-bf13-266425eb4d92",
   "metadata": {},
   "outputs": [
    {
     "name": "stdin",
     "output_type": "stream",
     "text": [
      "enter a:  4\n",
      "enter b:  8\n",
      "enter c:  6\n"
     ]
    }
   ],
   "source": [
    "a = int(input('enter a: ' ))\n",
    "b = int(input('enter b: ' ))\n",
    "c = int(input('enter c: ' ))"
   ]
  },
  {
   "cell_type": "code",
   "execution_count": 5,
   "id": "135052ce-f86b-4d26-a0cc-8ac2745396f2",
   "metadata": {},
   "outputs": [
    {
     "name": "stdout",
     "output_type": "stream",
     "text": [
      "b is greatter than a and c\n"
     ]
    }
   ],
   "source": [
    "if a>b and a>c:\n",
    "  print(a ,\"is greatter than\", b ,\"and\", c)\n",
    "elif b>a and b>c:\n",
    "  print(b is greatter than a and c\")\n",
    "else:\n",
    "  print(\"c is greatter than a and b\")\n"
   ]
  },
  {
   "cell_type": "code",
   "execution_count": null,
   "id": "c1ddc137-c64a-48bf-a0a4-fe2213401a51",
   "metadata": {},
   "outputs": [],
   "source": []
  }
 ],
 "metadata": {
  "kernelspec": {
   "display_name": "Python 3 (ipykernel)",
   "language": "python",
   "name": "python3"
  },
  "language_info": {
   "codemirror_mode": {
    "name": "ipython",
    "version": 3
   },
   "file_extension": ".py",
   "mimetype": "text/x-python",
   "name": "python",
   "nbconvert_exporter": "python",
   "pygments_lexer": "ipython3",
   "version": "3.13.3"
  }
 },
 "nbformat": 4,
 "nbformat_minor": 5
}
