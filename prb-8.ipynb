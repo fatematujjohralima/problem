{
 "cells": [
  {
   "cell_type": "code",
   "execution_count": 15,
   "id": "df926361-76b0-49bb-8067-82939ab5d1b3",
   "metadata": {},
   "outputs": [
    {
     "name": "stdin",
     "output_type": "stream",
     "text": [
      "enter the number:  123456789\n"
     ]
    }
   ],
   "source": [
    "num=(input('enter the number: '))"
   ]
  },
  {
   "cell_type": "code",
   "execution_count": 16,
   "id": "767af276-e1de-4eba-ad09-4586979b95b7",
   "metadata": {},
   "outputs": [],
   "source": [
    "rev=''"
   ]
  },
  {
   "cell_type": "code",
   "execution_count": 14,
   "id": "a4c5671c-f3c2-4d21-9179-4bc6afedf3b4",
   "metadata": {},
   "outputs": [
    {
     "name": "stdin",
     "output_type": "stream",
     "text": [
      "Enter the number:  14589\n"
     ]
    },
    {
     "name": "stdout",
     "output_type": "stream",
     "text": [
      "The reverse number is: 98541\n"
     ]
    }
   ],
   "source": [
    "for digit in num:\n",
    "    rev=digit+rev\n",
    "print rev"
   ]
  },
  {
   "cell_type": "code",
   "execution_count": null,
   "id": "db52b6fd-6c25-4c04-b928-b18229bb984d",
   "metadata": {},
   "outputs": [],
   "source": []
  }
 ],
 "metadata": {
  "kernelspec": {
   "display_name": "Python 3 (ipykernel)",
   "language": "python",
   "name": "python3"
  },
  "language_info": {
   "codemirror_mode": {
    "name": "ipython",
    "version": 3
   },
   "file_extension": ".py",
   "mimetype": "text/x-python",
   "name": "python",
   "nbconvert_exporter": "python",
   "pygments_lexer": "ipython3",
   "version": "3.13.3"
  }
 },
 "nbformat": 4,
 "nbformat_minor": 5
}
